{
 "cells": [
  {
   "cell_type": "code",
   "execution_count": null,
   "source": [
    "import tweepy\n",
    "from config import settings\n",
    "from pyairtable import Table\n",
    "def divide_into_tweet(text):\n",
    "    puncts = ['.', ',', ';', '--']\n",
    "    tweets = []\n",
    "    while len(text) > 280:\n",
    "        cut_where, cut_why = max((text.rfind(punc, 0, 276), punc) for punc in puncts)\n",
    "        if cut_where <= 0:\n",
    "            cut_where = text.rfind(' ', 0, 276)\n",
    "            cut_why = ' '\n",
    "        cut_where += len(cut_why)\n",
    "        tweets.append(text[:cut_where].rstrip())\n",
    "        text = text[cut_where:].lstrip()\n",
    "    tweets.append(text)        \n",
    "    return tweets    "
   ],
   "outputs": [],
   "metadata": {}
  },
  {
   "cell_type": "code",
   "execution_count": null,
   "source": [
    "# Authenticate to Twitter\n",
    "auth = tweepy.OAuthHandler(settings.TWITTER_CONSUMER_KEY, settings.TWITTER_CONSUMER_SECRET)\n",
    "auth.set_access_token(settings.TWITTER_ACCESS_TOKEN, settings.TWITTER_ACCESS_TOKEN_SECRET)\n",
    "api = tweepy.API(auth)\n",
    "\n",
    "try:\n",
    "    api.verify_credentials()\n",
    "    print(\"Authentication Successful\")\n",
    "except:\n",
    "    print(\"Authentication Error\")"
   ],
   "outputs": [],
   "metadata": {}
  },
  {
   "cell_type": "code",
   "execution_count": null,
   "source": [
    "table = Table(api_key=settings.AIRTABLE_API_KEY, base_id=settings.AIRTABLE_BASE_ID, table_name=\"Tweets\") \n",
    "for record in table.all():\n",
    "    if record[\"fields\"][\"Posted\"] == 0:\n",
    "        break\n",
    "    else:\n",
    "        continue\n"
   ],
   "outputs": [],
   "metadata": {}
  },
  {
   "cell_type": "code",
   "execution_count": null,
   "source": [
    "airtable_field_id = record['id']\n",
    "author = record[\"fields\"]['Author']\n",
    "title = record[\"fields\"]['Title']\n",
    "quote = record[\"fields\"]['Quote']\n",
    "tweets = divide_into_tweet(quote)\n",
    "reference = f\"Taken from {title} by {author}\"\n",
    "first_tweet = None\n",
    "counter = 0 \n",
    "number_of_tweets = len(tweets)\n",
    "if len(tweets) == 1:\n",
    "    first_tweet = print(f\"{tweets[0]}\")\n",
    "    print(f\"{reference}\")#, in_reply_to_status_id=first_tweet.id)\n",
    "else:\n",
    "    for tweet in tweets:\n",
    "        counter = counter + 1\n",
    "        if first_tweet is None:\n",
    "            first_tweet = print(f\"{tweet} ({counter}/{number_of_tweets})\")\n",
    "        else:\n",
    "            print(f\"{tweet} ({counter}/{number_of_tweets})\")#, in_reply_to_status_id=first_tweet.id)\n",
    "    print(f\"{reference}\")#, in_reply_to_status_id=first_tweet.id)\n"
   ],
   "outputs": [],
   "metadata": {}
  },
  {
   "cell_type": "code",
   "execution_count": null,
   "source": [],
   "outputs": [],
   "metadata": {}
  },
  {
   "cell_type": "code",
   "execution_count": null,
   "source": [],
   "outputs": [],
   "metadata": {}
  },
  {
   "cell_type": "code",
   "execution_count": null,
   "source": [
    "table.batch_update(records=[{\"id\": airtable_field_id, \"fields\": {\"Posted\": True}}])"
   ],
   "outputs": [],
   "metadata": {}
  },
  {
   "cell_type": "code",
   "execution_count": null,
   "source": [],
   "outputs": [],
   "metadata": {}
  }
 ],
 "metadata": {
  "orig_nbformat": 4,
  "language_info": {
   "name": "python",
   "version": "3.8.8",
   "mimetype": "text/x-python",
   "codemirror_mode": {
    "name": "ipython",
    "version": 3
   },
   "pygments_lexer": "ipython3",
   "nbconvert_exporter": "python",
   "file_extension": ".py"
  },
  "kernelspec": {
   "name": "python3",
   "display_name": "Python 3.8.8 64-bit ('base': conda)"
  },
  "interpreter": {
   "hash": "1efa13a510299c389584b3bc6bfe56799456ab5d8a5384615dbf9ff387b7defe"
  }
 },
 "nbformat": 4,
 "nbformat_minor": 2
}