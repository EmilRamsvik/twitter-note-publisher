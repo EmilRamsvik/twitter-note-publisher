{
 "cells": [
  {
   "cell_type": "code",
   "execution_count": null,
   "source": [
    "import json\n",
    "import regex as re\n",
    "from bs4 import BeautifulSoup\n",
    "import markdown as md\n",
    "import pandas as pd"
   ],
   "outputs": [],
   "metadata": {}
  },
  {
   "cell_type": "code",
   "execution_count": null,
   "source": [
    "html = md.markdown(open(\"booknotes2021.md\").read())\n",
    "soup = BeautifulSoup(html, \"html.parser\")"
   ],
   "outputs": [],
   "metadata": {}
  },
  {
   "cell_type": "code",
   "execution_count": null,
   "source": [
    "def get_quotes_book(book):\n",
    "    quotes = []\n",
    "    author = None\n",
    "    for item in book.next_siblings:\n",
    "        if item.name == \"h4\":\n",
    "            author = item.text\n",
    "        if item.name == \"h3\":\n",
    "            break\n",
    "        if item.name == \"ul\":\n",
    "            for li in item.find_all(\"li\"):\n",
    "                quotes.append(li.text)\n",
    "    if author == None:\n",
    "        print(book.text)\n",
    "    return quotes, author\n",
    "\n"
   ],
   "outputs": [],
   "metadata": {}
  },
  {
   "cell_type": "code",
   "execution_count": null,
   "source": [
    "list_books = soup.find_all(\"h3\")\n",
    "author_list = []\n",
    "title_list = []\n",
    "quotes_list = []\n",
    "for book in list_books:\n",
    "    quotes, author = get_quotes_book(book)\n",
    "    book_title = [book.text] * len(quotes)\n",
    "    author = [author] * len(quotes)\n",
    "    quotes_list.extend(quotes)\n",
    "    author_list.extend(author)\n",
    "    title_list.extend(book_title)\n",
    "\n",
    "dict = {\"Author\": author_list, \"Title\": title_list, \"Quote\": quotes_list}\n",
    "df = pd.DataFrame(dict)\n",
    "df.to_csv(\"booknotes2021.csv\")"
   ],
   "outputs": [],
   "metadata": {}
  },
  {
   "cell_type": "code",
   "execution_count": null,
   "source": [
    "df = pd.read_csv(\"booknotes2021.csv\")"
   ],
   "outputs": [],
   "metadata": {}
  },
  {
   "cell_type": "code",
   "execution_count": null,
   "source": [
    "\"\"\" for make a column containing the length of the quotes in pandas\"\"\"\n",
    "df[\"Length\"] = df[\"Quote\"].apply(lambda x: len(x))\n",
    "\n"
   ],
   "outputs": [],
   "metadata": {}
  },
  {
   "cell_type": "code",
   "execution_count": null,
   "source": [
    "df.loc[df[\"Length\"] > 280, \"Length\"].shape[0]"
   ],
   "outputs": [],
   "metadata": {}
  },
  {
   "cell_type": "code",
   "execution_count": null,
   "source": [
    "for quote in df.loc[:, \"Quote\"]:\n",
    "    tweets = divide_into_tweet(quote)\n",
    "    if len(tweets) > 1:"
   ],
   "outputs": [],
   "metadata": {}
  },
  {
   "cell_type": "code",
   "execution_count": null,
   "source": [],
   "outputs": [],
   "metadata": {}
  }
 ],
 "metadata": {
  "orig_nbformat": 4,
  "language_info": {
   "name": "python",
   "version": "3.8.8",
   "mimetype": "text/x-python",
   "codemirror_mode": {
    "name": "ipython",
    "version": 3
   },
   "pygments_lexer": "ipython3",
   "nbconvert_exporter": "python",
   "file_extension": ".py"
  },
  "kernelspec": {
   "name": "python3",
   "display_name": "Python 3.8.8 64-bit ('base': conda)"
  },
  "interpreter": {
   "hash": "1efa13a510299c389584b3bc6bfe56799456ab5d8a5384615dbf9ff387b7defe"
  }
 },
 "nbformat": 4,
 "nbformat_minor": 2
}