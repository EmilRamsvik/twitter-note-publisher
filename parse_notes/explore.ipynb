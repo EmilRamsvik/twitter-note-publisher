{
 "cells": [
  {
   "cell_type": "code",
   "execution_count": 5,
   "source": [
    "import json\n",
    "import regex as re\n",
    "from bs4 import BeautifulSoup\n",
    "import markdown as md"
   ],
   "outputs": [],
   "metadata": {}
  },
  {
   "cell_type": "code",
   "execution_count": 15,
   "source": [
    "html = md.markdown(open(\"booknotes2021.md\").read())\n",
    "soup = BeautifulSoup(html, \"html.parser\")"
   ],
   "outputs": [],
   "metadata": {}
  },
  {
   "cell_type": "code",
   "execution_count": 26,
   "source": [],
   "outputs": [
    {
     "output_type": "stream",
     "name": "stdout",
     "text": [
      "<h3>Black Swan</h3>\n"
     ]
    }
   ],
   "metadata": {}
  },
  {
   "cell_type": "code",
   "execution_count": 19,
   "source": [
    "list_books = soup.find_all(\"h3\")\n"
   ],
   "outputs": [],
   "metadata": {}
  },
  {
   "cell_type": "code",
   "execution_count": 38,
   "source": [
    "book = list_books[1]\n",
    "for i in book.descendants:\n",
    "    print(i)"
   ],
   "outputs": [
    {
     "output_type": "stream",
     "name": "stdout",
     "text": [
      "The Innovators\n"
     ]
    }
   ],
   "metadata": {}
  },
  {
   "cell_type": "code",
   "execution_count": 79,
   "source": [
    "def get_quotes_book(book):\n",
    "    quotes = []\n",
    "    author = None\n",
    "    for item in book.next_siblings:\n",
    "        if item.name == \"h4\":\n",
    "            author = item.text\n",
    "        if item.name == \"h3\":\n",
    "            break\n",
    "        if item.name == \"ul\":\n",
    "            for li in item.find_all(\"li\"):\n",
    "                quotes.append(li.text)\n",
    "    if author == None:\n",
    "        print(book.text)\n",
    "    return quotes, author\n"
   ],
   "outputs": [],
   "metadata": {}
  },
  {
   "cell_type": "code",
   "execution_count": 81,
   "source": [
    "for book in list_books:\n",
    "    quotes, author = get_quotes_book(book)\n",
    "    book_title = book.text\n"
   ],
   "outputs": [
    {
     "output_type": "stream",
     "name": "stdout",
     "text": [
      "H2O\n"
     ]
    }
   ],
   "metadata": {}
  },
  {
   "cell_type": "code",
   "execution_count": 76,
   "source": [
    "[print(i) for i in book.next_siblings if i.name == \"h4\"]"
   ],
   "outputs": [
    {
     "output_type": "stream",
     "name": "stdout",
     "text": [
      "<h4>Nassim Niclas Taleb</h4>\n",
      "<h4>Walter Issacson</h4>\n",
      "<h4>Steven Kotler &amp; Jaime Wheal</h4>\n",
      "<h4>Caroline Criado Perez</h4>\n",
      "<h4>Nassim Niclas Taleb</h4>\n",
      "<h4>Matt Taibbi</h4>\n",
      "<h4>Peter Thiel</h4>\n",
      "<h4>Bent Sørensen</h4>\n",
      "<h4>N.N. Taleb</h4>\n",
      "<h4>Gene Kim</h4>\n",
      "<h4>Cal Newport</h4>\n",
      "<h4>Nicole Forsgren, Jez Humble and Gene Kim</h4>\n",
      "<h4>Jerry Z. Muller</h4>\n",
      "<h4>Aage Storm Borchgrevink</h4>\n",
      "<h4>James Clear</h4>\n",
      "<h4>Cal Newport</h4>\n",
      "<h4>David Blight</h4>\n",
      "<h4>Mark Miodownik</h4>\n",
      "<h4>James Gleick</h4>\n",
      "<h4>Andrew Ross Sorkin</h4>\n",
      "<h4>Eric Ries</h4>\n",
      "<h4>Michael Lewis</h4>\n",
      "<h4>Tim Harford</h4>\n",
      "<h4>Nathaniel Popper</h4>\n",
      "<h4>Daron Acemoglu and James A. Robinson</h4>\n",
      "<h4>Dambisa Moyo</h4>\n",
      "<h4>David Deutch</h4>\n",
      "<h4>Johnjoe McFadden and Jim Al-Khalili</h4>\n",
      "<h4>Charles Wheelan</h4>\n",
      "<h4>N.N. Taleb</h4>\n",
      "<h4>Matt Ridley</h4>\n",
      "<h4>Niall Ferguson</h4>\n",
      "<h4>Linda Polman</h4>\n",
      "<h4>Gary Hammel</h4>\n",
      "<h4>Niall Ferguson</h4>\n",
      "<h4>Sean Carrol</h4>\n",
      "<h4>Scott H. Young</h4>\n",
      "<h4>Matt Ridley</h4>\n"
     ]
    },
    {
     "output_type": "execute_result",
     "data": {
      "text/plain": [
       "[None,\n",
       " None,\n",
       " None,\n",
       " None,\n",
       " None,\n",
       " None,\n",
       " None,\n",
       " None,\n",
       " None,\n",
       " None,\n",
       " None,\n",
       " None,\n",
       " None,\n",
       " None,\n",
       " None,\n",
       " None,\n",
       " None,\n",
       " None,\n",
       " None,\n",
       " None,\n",
       " None,\n",
       " None,\n",
       " None,\n",
       " None,\n",
       " None,\n",
       " None,\n",
       " None,\n",
       " None,\n",
       " None,\n",
       " None,\n",
       " None,\n",
       " None,\n",
       " None,\n",
       " None,\n",
       " None,\n",
       " None,\n",
       " None,\n",
       " None]"
      ]
     },
     "metadata": {},
     "execution_count": 76
    }
   ],
   "metadata": {}
  },
  {
   "cell_type": "code",
   "execution_count": null,
   "source": [],
   "outputs": [],
   "metadata": {}
  }
 ],
 "metadata": {
  "orig_nbformat": 4,
  "language_info": {
   "name": "python",
   "version": "3.8.8",
   "mimetype": "text/x-python",
   "codemirror_mode": {
    "name": "ipython",
    "version": 3
   },
   "pygments_lexer": "ipython3",
   "nbconvert_exporter": "python",
   "file_extension": ".py"
  },
  "kernelspec": {
   "name": "python3",
   "display_name": "Python 3.8.8 64-bit ('base': conda)"
  },
  "interpreter": {
   "hash": "1efa13a510299c389584b3bc6bfe56799456ab5d8a5384615dbf9ff387b7defe"
  }
 },
 "nbformat": 4,
 "nbformat_minor": 2
}